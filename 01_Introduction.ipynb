{
 "cells": [
  {
   "cell_type": "code",
   "execution_count": 1,
   "metadata": {},
   "outputs": [
    {
     "name": "stdout",
     "output_type": "stream",
     "text": [
      "welcome to session 1\n"
     ]
    }
   ],
   "source": [
    "print(\"welcome to session 1\")"
   ]
  },
  {
   "cell_type": "code",
   "execution_count": 2,
   "metadata": {},
   "outputs": [
    {
     "name": "stdout",
     "output_type": "stream",
     "text": [
      "hello world\n"
     ]
    }
   ],
   "source": [
    "print(\"hello world\")"
   ]
  },
  {
   "cell_type": "code",
   "execution_count": 1,
   "metadata": {},
   "outputs": [],
   "source": [
    "# this is a commented line\n",
    "riverName1 = \"Ganga\" # A comment can follow after a line of code.\n",
    "\t\t\t\t\t # Above one is called an inline-comment.\n",
    "\n",
    "\n",
    "# riverName2 = \"Amazon\"  # this line of code is commented\n",
    "\n",
    "riverName3 = \"Nile#Long\" # The # character which is part of a string \n",
    "\t\t\t\t\t\t # is part of the text and does not start a comment"
   ]
  },
  {
   "cell_type": "code",
   "execution_count": 2,
   "metadata": {},
   "outputs": [
    {
     "name": "stdout",
     "output_type": "stream",
     "text": [
      "Return the sum of given arguments.\n"
     ]
    }
   ],
   "source": [
    "def add(a, b): \n",
    "\t\"\"\"Return the sum of given arguments.\"\"\"\n",
    "\treturn a + b\n",
    "print(add.__doc__)"
   ]
  },
  {
   "cell_type": "code",
   "execution_count": 3,
   "metadata": {},
   "outputs": [
    {
     "name": "stdout",
     "output_type": "stream",
     "text": [
      "20\n"
     ]
    }
   ],
   "source": [
    "a = 10 # This is an assignment statement\n",
    "b = 10 # This is an assignment statement\n",
    "print(a + b) # a + b is an expression and print(a + b) is a statement"
   ]
  },
  {
   "cell_type": "code",
   "execution_count": 4,
   "metadata": {},
   "outputs": [
    {
     "name": "stdout",
     "output_type": "stream",
     "text": [
      "60\n"
     ]
    }
   ],
   "source": [
    "b = 10 # This is an assignment statement\n",
    "c = 10 # This is an assignment statement\n",
    "a = b * 5 + c # b * 5 + c is an expression, we are assigning this expression to the variable a then a = b * 5 + c is an assignment statement \n",
    "print(a)"
   ]
  },
  {
   "cell_type": "code",
   "execution_count": 5,
   "metadata": {},
   "outputs": [
    {
     "name": "stdout",
     "output_type": "stream",
     "text": [
      "user name is:  pradeep\n"
     ]
    }
   ],
   "source": [
    "name=input(\"Enter your name: \")\n",
    "print(\"user name is: \",name)"
   ]
  },
  {
   "cell_type": "code",
   "execution_count": 7,
   "metadata": {},
   "outputs": [
    {
     "name": "stdout",
     "output_type": "stream",
     "text": [
      "10\n"
     ]
    }
   ],
   "source": [
    "a= int(input(\"Enter an integer :\"))\n",
    "print(a)"
   ]
  },
  {
   "cell_type": "code",
   "execution_count": 8,
   "metadata": {},
   "outputs": [
    {
     "name": "stdout",
     "output_type": "stream",
     "text": [
      "Hi Hello Python\n"
     ]
    }
   ],
   "source": [
    "print(\"Hi\", \"Hello\", \"Python\")"
   ]
  },
  {
   "cell_type": "code",
   "execution_count": 9,
   "metadata": {},
   "outputs": [
    {
     "name": "stdout",
     "output_type": "stream",
     "text": [
      "A value is 10 and B value is 50\n"
     ]
    }
   ],
   "source": [
    "a = 10\n",
    "b = 50\n",
    "print(\"A value is\", a, \"and\", \"B value is\", b) # will print output as follows"
   ]
  },
  {
   "cell_type": "code",
   "execution_count": 11,
   "metadata": {},
   "outputs": [
    {
     "name": "stdout",
     "output_type": "stream",
     "text": [
      "The value of a = 10, b = 20.23 and str = Hello\n"
     ]
    }
   ],
   "source": [
    "a = 10\n",
    "b = 20.234\n",
    "str = \"Hello\"\n",
    "print(\"The value of a = %d, b = %.2f and str = %s\" %(a, b, str))"
   ]
  },
  {
   "cell_type": "code",
   "execution_count": 12,
   "metadata": {},
   "outputs": [
    {
     "name": "stdout",
     "output_type": "stream",
     "text": [
      "The value of a = 10, b = 20.234 and str = Hello\n"
     ]
    }
   ],
   "source": [
    "print(\"The value of a = {}, b = {} and str = {}\".format(a, b, str))"
   ]
  },
  {
   "cell_type": "code",
   "execution_count": 13,
   "metadata": {},
   "outputs": [
    {
     "name": "stdout",
     "output_type": "stream",
     "text": [
      "  a is of   <class 'int'>\n"
     ]
    }
   ],
   "source": [
    "a = 5 # variable a now refers to Integer data type\n",
    "print(\"  a is of  \", type(a))"
   ]
  },
  {
   "cell_type": "code",
   "execution_count": 14,
   "metadata": {},
   "outputs": [
    {
     "name": "stdout",
     "output_type": "stream",
     "text": [
      "  a is of   <class 'float'>\n"
     ]
    }
   ],
   "source": [
    "a = 90.45 # variable a now refers to Float data type\n",
    "print(\"  a is of  \", type(a))"
   ]
  },
  {
   "cell_type": "code",
   "execution_count": 16,
   "metadata": {},
   "outputs": [
    {
     "name": "stdout",
     "output_type": "stream",
     "text": [
      "  a is of   <class 'int'>\n",
      "  a is of   <class 'float'>\n",
      "  a is of   <class 'str'>\n",
      "  a is of   <class 'list'>\n"
     ]
    }
   ],
   "source": [
    "a = 5 # variable a now refers to Integer data type\n",
    "print(\"  a is of  \", type(a))\n",
    "a = 90.45 # variable a now refers to Float data type\n",
    "print(\"  a is of  \", type(a))\n",
    "a = \"India\"  # variable a now refers to String data type\n",
    "print(\"  a is of  \", type(a))\n",
    "a = [5, 90.45, \"India\"]  # variable a now refers to List data type\n",
    "print(\"  a is of  \", type(a))"
   ]
  },
  {
   "cell_type": "code",
   "execution_count": 17,
   "metadata": {},
   "outputs": [
    {
     "name": "stdout",
     "output_type": "stream",
     "text": [
      "<class 'int'>\n"
     ]
    }
   ],
   "source": [
    "a = -7\n",
    "print(type(a)) # will print output as follows"
   ]
  },
  {
   "cell_type": "code",
   "execution_count": 18,
   "metadata": {},
   "outputs": [
    {
     "name": "stdout",
     "output_type": "stream",
     "text": [
      "<class 'complex'>\n"
     ]
    }
   ],
   "source": [
    "a = 2 + 3j # It is important to note that there should not be any space between 3 and j\n",
    "print(type(a)) # will print output as follows"
   ]
  },
  {
   "attachments": {},
   "cell_type": "markdown",
   "metadata": {},
   "source": [
    "Strings"
   ]
  },
  {
   "cell_type": "code",
   "execution_count": 19,
   "metadata": {},
   "outputs": [
    {
     "name": "stdout",
     "output_type": "stream",
     "text": [
      "Welcome To Python World\n"
     ]
    }
   ],
   "source": [
    "# 1. Using single quotes (' ')\n",
    "str1 = 'Welcome To Python World'\n",
    "print(str1)# will print output as follows\n",
    "print (type(str1))"
   ]
  },
  {
   "cell_type": "code",
   "execution_count": 22,
   "metadata": {},
   "outputs": [
    {
     "name": "stdout",
     "output_type": "stream",
     "text": [
      "Welcome to Python's world\n"
     ]
    }
   ],
   "source": [
    "sentence =  \"Welcome to Python's world\"\n",
    "print (sentence) # will print output as follows"
   ]
  },
  {
   "cell_type": "code",
   "execution_count": 23,
   "metadata": {},
   "outputs": [
    {
     "name": "stdout",
     "output_type": "stream",
     "text": [
      "Welcome to Python's world\n"
     ]
    }
   ],
   "source": [
    "sentence =  'Welcome to Python\\'s world' # observe a backslash (\\) before (')\n",
    "print (sentence) # will print output as follows"
   ]
  },
  {
   "cell_type": "code",
   "execution_count": 24,
   "metadata": {},
   "outputs": [
    {
     "name": "stdout",
     "output_type": "stream",
     "text": [
      "Welcome to the world of Python\n",
      "I love Python and Python is very easy to learn\n",
      "Practice makes man perfect\n"
     ]
    }
   ],
   "source": [
    "str = \"\"\"Welcome to the world of Python\n",
    "I love Python and Python is very easy to learn\n",
    "Practice makes man perfect\"\"\"\n",
    "print(str) # will print output as follow"
   ]
  },
  {
   "attachments": {},
   "cell_type": "markdown",
   "metadata": {},
   "source": [
    "List"
   ]
  },
  {
   "cell_type": "code",
   "execution_count": 25,
   "metadata": {},
   "outputs": [
    {
     "name": "stdout",
     "output_type": "stream",
     "text": [
      "[1, 2.0, 'one', 'hi']\n"
     ]
    }
   ],
   "source": [
    "list1 = [1, 2.0, \"one\", \"hi\"]\n",
    "print(list1) # will print output as follows"
   ]
  },
  {
   "cell_type": "code",
   "execution_count": 28,
   "metadata": {},
   "outputs": [
    {
     "name": "stdout",
     "output_type": "stream",
     "text": [
      "[4, 5, 'hello']\n",
      "4\n",
      "hello\n",
      "hello\n"
     ]
    }
   ],
   "source": [
    "list2 = [4, 5, \"hello\"]\n",
    "print(list2) # will print output as follows\n",
    "print(list2[0])\n",
    "print(list2[2])\n",
    "print(list2[-1])"
   ]
  }
 ],
 "metadata": {
  "kernelspec": {
   "display_name": "Python 3",
   "language": "python",
   "name": "python3"
  },
  "language_info": {
   "codemirror_mode": {
    "name": "ipython",
    "version": 3
   },
   "file_extension": ".py",
   "mimetype": "text/x-python",
   "name": "python",
   "nbconvert_exporter": "python",
   "pygments_lexer": "ipython3",
   "version": "3.9.0"
  },
  "orig_nbformat": 4
 },
 "nbformat": 4,
 "nbformat_minor": 2
}
