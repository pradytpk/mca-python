{
 "cells": [
  {
   "cell_type": "code",
   "execution_count": 1,
   "metadata": {},
   "outputs": [
    {
     "name": "stdout",
     "output_type": "stream",
     "text": [
      "welcome to session 1\n"
     ]
    }
   ],
   "source": [
    "print(\"welcome to session 1\")"
   ]
  },
  {
   "cell_type": "code",
   "execution_count": 2,
   "metadata": {},
   "outputs": [
    {
     "name": "stdout",
     "output_type": "stream",
     "text": [
      "hello world\n"
     ]
    }
   ],
   "source": [
    "print(\"hello world\")"
   ]
  },
  {
   "cell_type": "code",
   "execution_count": 1,
   "metadata": {},
   "outputs": [],
   "source": [
    "# this is a commented line\n",
    "riverName1 = \"Ganga\" # A comment can follow after a line of code.\n",
    "\t\t\t\t\t # Above one is called an inline-comment.\n",
    "\n",
    "\n",
    "# riverName2 = \"Amazon\"  # this line of code is commented\n",
    "\n",
    "riverName3 = \"Nile#Long\" # The # character which is part of a string \n",
    "\t\t\t\t\t\t # is part of the text and does not start a comment"
   ]
  },
  {
   "cell_type": "code",
   "execution_count": 2,
   "metadata": {},
   "outputs": [
    {
     "name": "stdout",
     "output_type": "stream",
     "text": [
      "Return the sum of given arguments.\n"
     ]
    }
   ],
   "source": [
    "def add(a, b): \n",
    "\t\"\"\"Return the sum of given arguments.\"\"\"\n",
    "\treturn a + b\n",
    "print(add.__doc__)"
   ]
  },
  {
   "cell_type": "code",
   "execution_count": 3,
   "metadata": {},
   "outputs": [
    {
     "name": "stdout",
     "output_type": "stream",
     "text": [
      "20\n"
     ]
    }
   ],
   "source": [
    "a = 10 # This is an assignment statement\n",
    "b = 10 # This is an assignment statement\n",
    "print(a + b) # a + b is an expression and print(a + b) is a statement"
   ]
  },
  {
   "cell_type": "code",
   "execution_count": 4,
   "metadata": {},
   "outputs": [
    {
     "name": "stdout",
     "output_type": "stream",
     "text": [
      "60\n"
     ]
    }
   ],
   "source": [
    "b = 10 # This is an assignment statement\n",
    "c = 10 # This is an assignment statement\n",
    "a = b * 5 + c # b * 5 + c is an expression, we are assigning this expression to the variable a then a = b * 5 + c is an assignment statement \n",
    "print(a)"
   ]
  },
  {
   "cell_type": "code",
   "execution_count": 5,
   "metadata": {},
   "outputs": [
    {
     "name": "stdout",
     "output_type": "stream",
     "text": [
      "user name is:  pradeep\n"
     ]
    }
   ],
   "source": [
    "name=input(\"Enter your name: \")\n",
    "print(\"user name is: \",name)"
   ]
  },
  {
   "cell_type": "code",
   "execution_count": 7,
   "metadata": {},
   "outputs": [
    {
     "name": "stdout",
     "output_type": "stream",
     "text": [
      "10\n"
     ]
    }
   ],
   "source": [
    "a= int(input(\"Enter an integer :\"))\n",
    "print(a)"
   ]
  },
  {
   "cell_type": "code",
   "execution_count": 8,
   "metadata": {},
   "outputs": [
    {
     "name": "stdout",
     "output_type": "stream",
     "text": [
      "Hi Hello Python\n"
     ]
    }
   ],
   "source": [
    "print(\"Hi\", \"Hello\", \"Python\")"
   ]
  },
  {
   "cell_type": "code",
   "execution_count": 9,
   "metadata": {},
   "outputs": [
    {
     "name": "stdout",
     "output_type": "stream",
     "text": [
      "A value is 10 and B value is 50\n"
     ]
    }
   ],
   "source": [
    "a = 10\n",
    "b = 50\n",
    "print(\"A value is\", a, \"and\", \"B value is\", b) # will print output as follows"
   ]
  },
  {
   "cell_type": "code",
   "execution_count": 11,
   "metadata": {},
   "outputs": [
    {
     "name": "stdout",
     "output_type": "stream",
     "text": [
      "The value of a = 10, b = 20.23 and str = Hello\n"
     ]
    }
   ],
   "source": [
    "a = 10\n",
    "b = 20.234\n",
    "str = \"Hello\"\n",
    "print(\"The value of a = %d, b = %.2f and str = %s\" %(a, b, str))"
   ]
  },
  {
   "cell_type": "code",
   "execution_count": 12,
   "metadata": {},
   "outputs": [
    {
     "name": "stdout",
     "output_type": "stream",
     "text": [
      "The value of a = 10, b = 20.234 and str = Hello\n"
     ]
    }
   ],
   "source": [
    "print(\"The value of a = {}, b = {} and str = {}\".format(a, b, str))"
   ]
  },
  {
   "cell_type": "code",
   "execution_count": 13,
   "metadata": {},
   "outputs": [
    {
     "name": "stdout",
     "output_type": "stream",
     "text": [
      "  a is of   <class 'int'>\n"
     ]
    }
   ],
   "source": [
    "a = 5 # variable a now refers to Integer data type\n",
    "print(\"  a is of  \", type(a))"
   ]
  },
  {
   "cell_type": "code",
   "execution_count": 14,
   "metadata": {},
   "outputs": [
    {
     "name": "stdout",
     "output_type": "stream",
     "text": [
      "  a is of   <class 'float'>\n"
     ]
    }
   ],
   "source": [
    "a = 90.45 # variable a now refers to Float data type\n",
    "print(\"  a is of  \", type(a))"
   ]
  },
  {
   "cell_type": "code",
   "execution_count": 16,
   "metadata": {},
   "outputs": [
    {
     "name": "stdout",
     "output_type": "stream",
     "text": [
      "  a is of   <class 'int'>\n",
      "  a is of   <class 'float'>\n",
      "  a is of   <class 'str'>\n",
      "  a is of   <class 'list'>\n"
     ]
    }
   ],
   "source": [
    "a = 5 # variable a now refers to Integer data type\n",
    "print(\"  a is of  \", type(a))\n",
    "a = 90.45 # variable a now refers to Float data type\n",
    "print(\"  a is of  \", type(a))\n",
    "a = \"India\"  # variable a now refers to String data type\n",
    "print(\"  a is of  \", type(a))\n",
    "a = [5, 90.45, \"India\"]  # variable a now refers to List data type\n",
    "print(\"  a is of  \", type(a))"
   ]
  },
  {
   "cell_type": "code",
   "execution_count": 17,
   "metadata": {},
   "outputs": [
    {
     "name": "stdout",
     "output_type": "stream",
     "text": [
      "<class 'int'>\n"
     ]
    }
   ],
   "source": [
    "a = -7\n",
    "print(type(a)) # will print output as follows"
   ]
  },
  {
   "cell_type": "code",
   "execution_count": 18,
   "metadata": {},
   "outputs": [
    {
     "name": "stdout",
     "output_type": "stream",
     "text": [
      "<class 'complex'>\n"
     ]
    }
   ],
   "source": [
    "a = 2 + 3j # It is important to note that there should not be any space between 3 and j\n",
    "print(type(a)) # will print output as follows"
   ]
  },
  {
   "attachments": {},
   "cell_type": "markdown",
   "metadata": {},
   "source": [
    "Strings"
   ]
  },
  {
   "cell_type": "code",
   "execution_count": 19,
   "metadata": {},
   "outputs": [
    {
     "name": "stdout",
     "output_type": "stream",
     "text": [
      "Welcome To Python World\n"
     ]
    }
   ],
   "source": [
    "# 1. Using single quotes (' ')\n",
    "str1 = 'Welcome To Python World'\n",
    "print(str1)# will print output as follows\n",
    "print (type(str1))"
   ]
  },
  {
   "cell_type": "code",
   "execution_count": 22,
   "metadata": {},
   "outputs": [
    {
     "name": "stdout",
     "output_type": "stream",
     "text": [
      "Welcome to Python's world\n"
     ]
    }
   ],
   "source": [
    "sentence =  \"Welcome to Python's world\"\n",
    "print (sentence) # will print output as follows"
   ]
  },
  {
   "cell_type": "code",
   "execution_count": 23,
   "metadata": {},
   "outputs": [
    {
     "name": "stdout",
     "output_type": "stream",
     "text": [
      "Welcome to Python's world\n"
     ]
    }
   ],
   "source": [
    "sentence =  'Welcome to Python\\'s world' # observe a backslash (\\) before (')\n",
    "print (sentence) # will print output as follows"
   ]
  },
  {
   "cell_type": "code",
   "execution_count": 24,
   "metadata": {},
   "outputs": [
    {
     "name": "stdout",
     "output_type": "stream",
     "text": [
      "Welcome to the world of Python\n",
      "I love Python and Python is very easy to learn\n",
      "Practice makes man perfect\n"
     ]
    }
   ],
   "source": [
    "str = \"\"\"Welcome to the world of Python\n",
    "I love Python and Python is very easy to learn\n",
    "Practice makes man perfect\"\"\"\n",
    "print(str) # will print output as follow"
   ]
  },
  {
   "attachments": {},
   "cell_type": "markdown",
   "metadata": {},
   "source": [
    "List"
   ]
  },
  {
   "cell_type": "code",
   "execution_count": 25,
   "metadata": {},
   "outputs": [
    {
     "name": "stdout",
     "output_type": "stream",
     "text": [
      "[1, 2.0, 'one', 'hi']\n"
     ]
    }
   ],
   "source": [
    "list1 = [1, 2.0, \"one\", \"hi\"]\n",
    "print(list1) # will print output as follows"
   ]
  },
  {
   "cell_type": "code",
   "execution_count": 28,
   "metadata": {},
   "outputs": [
    {
     "name": "stdout",
     "output_type": "stream",
     "text": [
      "[4, 5, 'hello']\n",
      "4\n",
      "hello\n",
      "hello\n"
     ]
    }
   ],
   "source": [
    "list2 = [4, 5, \"hello\"]\n",
    "print(list2) # will print output as follows\n",
    "print(list2[0])\n",
    "print(list2[2])\n",
    "print(list2[-1])"
   ]
  },
  {
   "cell_type": "code",
   "execution_count": 1,
   "metadata": {},
   "outputs": [
    {
     "name": "stdout",
     "output_type": "stream",
     "text": [
      "[5, 7]\n"
     ]
    }
   ],
   "source": [
    "l = [1, 4, 5, 7, 4, 15]\n",
    "print( l[2:4])"
   ]
  },
  {
   "cell_type": "code",
   "execution_count": 6,
   "metadata": {},
   "outputs": [
    {
     "data": {
      "text/plain": [
       "[22, 44, 12, 55, 66]"
      ]
     },
     "execution_count": 6,
     "metadata": {},
     "output_type": "execute_result"
    }
   ],
   "source": [
    "l = [1, 4, 6, 22, 44, 12, 55, 66]\n",
    "l[3:]"
   ]
  },
  {
   "cell_type": "code",
   "execution_count": 5,
   "metadata": {},
   "outputs": [
    {
     "data": {
      "text/plain": [
       "[1, 4, 6, 22]"
      ]
     },
     "execution_count": 5,
     "metadata": {},
     "output_type": "execute_result"
    }
   ],
   "source": [
    "l = [1, 4, 6, 22, 44, 12, 55, 66]\n",
    "l[:4]"
   ]
  },
  {
   "cell_type": "code",
   "execution_count": 4,
   "metadata": {},
   "outputs": [
    {
     "name": "stdout",
     "output_type": "stream",
     "text": [
      "[1, 2, 'one', 'hi', 4, 5, 'hello']\n"
     ]
    }
   ],
   "source": [
    "list1 = [1, 2, 'one', 'hi']\n",
    "list2 = [4, 5, 'hello']\n",
    "print(list1 + list2) # will print output as follows"
   ]
  },
  {
   "attachments": {},
   "cell_type": "markdown",
   "metadata": {},
   "source": [
    "Working with nested list"
   ]
  },
  {
   "cell_type": "code",
   "execution_count": 2,
   "metadata": {},
   "outputs": [
    {
     "name": "stdout",
     "output_type": "stream",
     "text": [
      "A\n"
     ]
    }
   ],
   "source": [
    "list1 = [23, 5.65, [\"A\", 34.23], \"India\"]\n",
    "print(list1[2] [0] )"
   ]
  },
  {
   "cell_type": "code",
   "execution_count": 3,
   "metadata": {},
   "outputs": [
    {
     "name": "stdout",
     "output_type": "stream",
     "text": [
      "hello\n"
     ]
    }
   ],
   "source": [
    "list1 = [23, 5.65, [\"A\", 34.23,\"hello\", 5,7], \"India\"]\n",
    "print(list1[2] [2] )"
   ]
  },
  {
   "cell_type": "code",
   "execution_count": 7,
   "metadata": {},
   "outputs": [
    {
     "name": "stdout",
     "output_type": "stream",
     "text": [
      "hello\n"
     ]
    }
   ],
   "source": [
    "list1 = [23, 5.65, [\"A\", 34.23,\"hello\", 5,7], \"India\"]\n",
    "print(list1[2][2])"
   ]
  },
  {
   "cell_type": "code",
   "execution_count": 8,
   "metadata": {},
   "outputs": [
    {
     "name": "stdout",
     "output_type": "stream",
     "text": [
      "['a', 'b', 'c', 'xyz']\n"
     ]
    }
   ],
   "source": [
    "chars = ['a', 'b', 'c', 'd']\n",
    "chars[3] = 'xyz'\n",
    "print(chars) # will print output as follows"
   ]
  },
  {
   "cell_type": "code",
   "execution_count": 9,
   "metadata": {},
   "outputs": [
    {
     "name": "stdout",
     "output_type": "stream",
     "text": [
      "['a', 'b', 'c', 'd', 'abcd']\n"
     ]
    }
   ],
   "source": [
    "chars = ['a', 'b', 'c', 'd']\n",
    "chars.append(\"abcd\")\n",
    "print(chars) # will print output as follows"
   ]
  },
  {
   "cell_type": "code",
   "execution_count": 10,
   "metadata": {},
   "outputs": [
    {
     "name": "stdout",
     "output_type": "stream",
     "text": [
      "['a', 'b', 'c', 'd', ['e', 'f']]\n"
     ]
    }
   ],
   "source": [
    "chars = ['a', 'b', 'c', 'd']\n",
    "chars.append( ['e', 'f'])  # This will append the list ['e', 'f'] as the last item to the chars list.  \n",
    "print(chars) # will print output as follows"
   ]
  },
  {
   "cell_type": "code",
   "execution_count": 11,
   "metadata": {},
   "outputs": [
    {
     "name": "stdout",
     "output_type": "stream",
     "text": [
      "['a', 'b', 'c', 'd', 1, 2, 3]\n"
     ]
    }
   ],
   "source": [
    "chars = ['a', 'b', 'c', 'd']\n",
    "list2 = [1, 2, 3]\n",
    "chars.extend(list2)\n",
    "print(chars) # will print output as follows"
   ]
  },
  {
   "attachments": {},
   "cell_type": "markdown",
   "metadata": {},
   "source": [
    "Set"
   ]
  },
  {
   "cell_type": "code",
   "execution_count": 12,
   "metadata": {},
   "outputs": [
    {
     "name": "stdout",
     "output_type": "stream",
     "text": [
      "set()\n",
      "<class 'set'>\n"
     ]
    }
   ],
   "source": [
    "myset = set()\n",
    "print(myset) # will print empty set.\n",
    "print(type(myset)) # will print type of myset."
   ]
  },
  {
   "cell_type": "code",
   "execution_count": 13,
   "metadata": {},
   "outputs": [
    {
     "name": "stdout",
     "output_type": "stream",
     "text": [
      "{1, 2, 3}\n",
      "<class 'set'>\n"
     ]
    }
   ],
   "source": [
    "myset1 = {1, 2, 3} \n",
    "print(myset1) # will print the elements of a set.\n",
    "print(type(myset1)) # will print type of myset1."
   ]
  },
  {
   "cell_type": "code",
   "execution_count": 14,
   "metadata": {},
   "outputs": [
    {
     "name": "stdout",
     "output_type": "stream",
     "text": [
      "{'a', 'b', 'c', 'd'}\n"
     ]
    }
   ],
   "source": [
    "chars = {'a', 'b', 'c', 'd'}\n",
    "#chars[3] = 'xyz'\n",
    "print(chars)"
   ]
  },
  {
   "cell_type": "code",
   "execution_count": 15,
   "metadata": {},
   "outputs": [
    {
     "name": "stdout",
     "output_type": "stream",
     "text": [
      "{'F', 'c', 'a', 'b', 'd'}\n"
     ]
    }
   ],
   "source": [
    "chars.add(\"F\")\n",
    "print(chars)"
   ]
  },
  {
   "attachments": {},
   "cell_type": "markdown",
   "metadata": {},
   "source": [
    "Tuple"
   ]
  },
  {
   "cell_type": "code",
   "execution_count": 1,
   "metadata": {},
   "outputs": [
    {
     "name": "stdout",
     "output_type": "stream",
     "text": [
      "hello\n"
     ]
    }
   ],
   "source": [
    "tuple1 = (\"hi\", \"hello\", 55, 66)\n",
    "print(tuple1[-3]) # Printing the element at the  0th index of the tuple, tuple1"
   ]
  },
  {
   "cell_type": "code",
   "execution_count": 2,
   "metadata": {},
   "outputs": [
    {
     "name": "stdout",
     "output_type": "stream",
     "text": [
      "Given tuple : ('hi', 'hello', 55, 66)\n",
      "After conversion of tuple to list : ['hi', 'hello', 55, 66]\n",
      "List after changing the element : ['hi', 'hello', 'fifty five', 66]\n",
      "After converting list into tuple : ('hi', 'hello', 'fifty five', 66)\n"
     ]
    }
   ],
   "source": [
    "tuple1 = ('hi', 'hello', 55, 66) # Creating a tuple, tuple1\n",
    "print(\"Given tuple :\",tuple1) \n",
    "list1 = list(tuple1) # Converting the tuple to a list using built-in list() function.\n",
    "print(\"After conversion of tuple to list :\",list1) \n",
    "list1[2] = \"fifty five\"  # Updating the value of element at 2nd index. This does not result in an error as the lists are mutable.\n",
    "print(\"List after changing the element :\",list1) \n",
    "tuple1 = tuple(list1)  # Converting the list back to tuple using the built-in tuple() method.\n",
    "print(\"After converting list into tuple :\",tuple1) # Printing the final tuple with the updated element at 2nd index."
   ]
  },
  {
   "attachments": {},
   "cell_type": "markdown",
   "metadata": {},
   "source": [
    "Dictionary"
   ]
  },
  {
   "cell_type": "code",
   "execution_count": 3,
   "metadata": {},
   "outputs": [
    {
     "name": "stdout",
     "output_type": "stream",
     "text": [
      "<class 'dict'>\n",
      "{}\n"
     ]
    }
   ],
   "source": [
    "# 1. Using built-in dict() function.\n",
    "mydict = dict() # Creating an empty dictionary called mydict\n",
    "print(type(mydict)) # Printing data type of mydict.\n",
    "print(mydict)  # Prints empty dictionary."
   ]
  },
  {
   "cell_type": "code",
   "execution_count": 4,
   "metadata": {},
   "outputs": [
    {
     "name": "stdout",
     "output_type": "stream",
     "text": [
      "{'Hyderabad': 20, 'Delhi': 30}\n"
     ]
    }
   ],
   "source": [
    "mydict = dict(Hyderabad = 20, Delhi = 30) # A dictionary with two key pairs is created.\n",
    "print(mydict) # Prints the dictionary"
   ]
  },
  {
   "cell_type": "code",
   "execution_count": 5,
   "metadata": {},
   "outputs": [
    {
     "name": "stdout",
     "output_type": "stream",
     "text": [
      "{1: 'one', 2: 'two', 3: 'three'}\n",
      "<class 'dict'>\n"
     ]
    }
   ],
   "source": [
    "mydict = {1:\"one\", 2 :\"two\", 3:\"three\"}  # Create a dictionary with three key-value pairs.\n",
    "print(mydict) # Printing the dictionary\n",
    "print(type(mydict)) # will print output as follows"
   ]
  },
  {
   "cell_type": "code",
   "execution_count": 6,
   "metadata": {},
   "outputs": [
    {
     "name": "stdout",
     "output_type": "stream",
     "text": [
      "New Delhi\n",
      "Khatmandu\n"
     ]
    }
   ],
   "source": [
    "# 1. Using the keys of the dictionary.\n",
    "capitals = {\"U.S.A\" : \"Washington D.C\", \"India\" : \"New Delhi\", \"Nepal\" : \"Khatmandu\"} # Creating a dictionary, \n",
    "print(capitals[\"India\"]) # Printing the value with the key \"India\" i.e. \"New Delhi\".\n",
    "print(capitals[\"Nepal\"]) # Printing the value with the key \"Nepal\" i.e. \"Khatmandu\"."
   ]
  },
  {
   "cell_type": "code",
   "execution_count": 7,
   "metadata": {},
   "outputs": [
    {
     "name": "stdout",
     "output_type": "stream",
     "text": [
      "New Delhi\n",
      "Khatmandu\n"
     ]
    }
   ],
   "source": [
    "capitals = {\"U.S.A\" : \"Washington D.C\", \"India\" : \"New Delhi\", \"Nepal\" : \"Khatmandu\"} # Creating a dictionary, \n",
    "print(capitals.get(\"India\")) # Printing the value with the key \"India\" i.e. \"New Delhi\".\n",
    "print(capitals.get(\"Nepal\")) # Printing the value with the key \"Nepal\" i.e. \"Khatmandu\"."
   ]
  }
 ],
 "metadata": {
  "kernelspec": {
   "display_name": "Python 3",
   "language": "python",
   "name": "python3"
  },
  "language_info": {
   "codemirror_mode": {
    "name": "ipython",
    "version": 3
   },
   "file_extension": ".py",
   "mimetype": "text/x-python",
   "name": "python",
   "nbconvert_exporter": "python",
   "pygments_lexer": "ipython3",
   "version": "3.9.0"
  },
  "orig_nbformat": 4
 },
 "nbformat": 4,
 "nbformat_minor": 2
}
